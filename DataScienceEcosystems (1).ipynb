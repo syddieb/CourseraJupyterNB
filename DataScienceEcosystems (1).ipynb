{
 "cells": [
  {
   "cell_type": "markdown",
   "id": "cf612d89-9685-46b5-9c6f-e90edc461aad",
   "metadata": {},
   "source": [
    "# Data Science Tools and Ecosystem"
   ]
  },
  {
   "cell_type": "markdown",
   "id": "7d25c2d7-75b9-4c12-9f11-2b16dce2cd0f",
   "metadata": {},
   "source": [
    "In this notebook, Data Science Tools and Ecosystem are summarized."
   ]
  },
  {
   "cell_type": "markdown",
   "id": "38c1f58c-796d-4b3c-8f42-a26e9a803477",
   "metadata": {},
   "source": [
    "Some of the popular tools that Data Scientist use are:"
   ]
  },
  {
   "cell_type": "markdown",
   "id": "5df99330-caac-489e-9300-516b79d32d02",
   "metadata": {},
   "source": [
    "1. R\n",
    "2. Python \n",
    "3. SQL"
   ]
  },
  {
   "cell_type": "markdown",
   "id": "42d24195-4e64-4dd9-933c-eea5c6d4fb50",
   "metadata": {},
   "source": [
    "Some of the commonly used libraries used by Data Scientist include:"
   ]
  },
  {
   "cell_type": "markdown",
   "id": "3026a037-3412-4a84-b8e9-0e8f13cd9b83",
   "metadata": {},
   "source": [
    "1. Numpy\n",
    "2. Pandas\n",
    "3. TensorFlow"
   ]
  },
  {
   "cell_type": "markdown",
   "id": "2008df01-7225-4fe7-9043-f88a462a159a",
   "metadata": {},
   "source": [
    "**Objectives:**\n",
    "List popular languages for Data Science\n",
    "* Python\n",
    "* SQL\n",
    "* R"
   ]
  },
  {
   "cell_type": "markdown",
   "id": "a868e3fa-c54f-4c76-a811-6b3925796fbf",
   "metadata": {},
   "source": [
    "|Data Science Tools|\n",
    "--------------------\n",
    "|NumPy|\n",
    "|Pandas|\n",
    "|TensorFlow|"
   ]
  },
  {
   "cell_type": "markdown",
   "id": "368e9201-736a-40fa-ab92-0d4ce6bffbab",
   "metadata": {},
   "source": [
    "### Below are a few examples of evaluating arithmetic expressions in Python"
   ]
  },
  {
   "cell_type": "markdown",
   "id": "cbfb22b0-1769-44b9-a001-4ee154325173",
   "metadata": {},
   "source": []
  },
  {
   "cell_type": "code",
   "execution_count": 27,
   "id": "4a0ea472-ed77-4c86-a438-86f719537fcc",
   "metadata": {},
   "outputs": [
    {
     "data": {
      "text/plain": [
       "17"
      ]
     },
     "execution_count": 27,
     "metadata": {},
     "output_type": "execute_result"
    }
   ],
   "source": [
    "(3*4)+5"
   ]
  },
  {
   "cell_type": "code",
   "execution_count": 29,
   "id": "f0d9fb41-b817-432e-84b6-0debb7a4b281",
   "metadata": {},
   "outputs": [
    {
     "data": {
      "text/plain": [
       "3.3333333333333335"
      ]
     },
     "execution_count": 29,
     "metadata": {},
     "output_type": "execute_result"
    }
   ],
   "source": [
    "200/60"
   ]
  },
  {
   "cell_type": "markdown",
   "id": "1c3e1a78-9d4b-4a98-bebf-69bac9945405",
   "metadata": {},
   "source": [
    "## Author\n",
    "Sydney Benton"
   ]
  },
  {
   "cell_type": "code",
   "execution_count": null,
   "id": "b5e575ef-eaa9-4963-b661-b127fe2322b2",
   "metadata": {},
   "outputs": [],
   "source": []
  },
  {
   "cell_type": "code",
   "execution_count": null,
   "id": "f9b773da-923c-4110-b5c8-30d2d256fdb8",
   "metadata": {},
   "outputs": [],
   "source": []
  }
 ],
 "metadata": {
  "kernelspec": {
   "display_name": "anaconda-panel-2023.05-py310",
   "language": "python",
   "name": "conda-env-anaconda-panel-2023.05-py310-py"
  },
  "language_info": {
   "codemirror_mode": {
    "name": "ipython",
    "version": 3
   },
   "file_extension": ".py",
   "mimetype": "text/x-python",
   "name": "python",
   "nbconvert_exporter": "python",
   "pygments_lexer": "ipython3",
   "version": "3.11.5"
  }
 },
 "nbformat": 4,
 "nbformat_minor": 5
}
